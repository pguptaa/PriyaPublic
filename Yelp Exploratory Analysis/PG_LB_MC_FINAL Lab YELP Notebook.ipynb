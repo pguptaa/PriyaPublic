{
 "cells": [
  {
   "cell_type": "markdown",
   "metadata": {},
   "source": [
    "# Link to raw data\n",
    "https://drive.google.com/file/d/0B7H1JlmYiCTtbmhBcVNuWGFCeG8/view?usp=sharing"
   ]
  },
  {
   "cell_type": "code",
   "execution_count": 2,
   "metadata": {
    "collapsed": true
   },
   "outputs": [],
   "source": [
    "import pandas as pd\n",
    "import numpy as np\n",
    "import seaborn\n",
    "%matplotlib inline"
   ]
  },
  {
   "cell_type": "code",
   "execution_count": 3,
   "metadata": {
    "collapsed": true
   },
   "outputs": [],
   "source": [
    "with open('yelp_academic_dataset_user.json', 'rt') as f:\n",
    "    data = f.readlines()\n",
    "data = map(lambda x: x.rstrip(), data)\n",
    "data_json_str = \"[\" + ','.join(data) + \"]\""
   ]
  },
  {
   "cell_type": "code",
   "execution_count": 4,
   "metadata": {
    "collapsed": true
   },
   "outputs": [],
   "source": [
    "with open('yelp_academic_dataset_business.json', 'rt') as m:\n",
    "    data3 = m.readlines()\n",
    "data3 = map(lambda x: x.rstrip(), data3)\n",
    "data_json_str3 = \"[\" + ','.join(data3) + \"]\""
   ]
  },
  {
   "cell_type": "code",
   "execution_count": 5,
   "metadata": {
    "collapsed": true
   },
   "outputs": [],
   "source": [
    "with open('yelp_academic_dataset_review.json', 'rt') as l:\n",
    "    data4 = l.readlines()\n",
    "data4 = map(lambda x: x.rstrip(), data4)\n",
    "data_json_str4 = \"[\" + ','.join(data4) + \"]\""
   ]
  },
  {
   "cell_type": "code",
   "execution_count": 6,
   "metadata": {
    "collapsed": true
   },
   "outputs": [],
   "source": [
    "with open('yelp_academic_dataset_checkin.json', 'rt') as n:\n",
    "    data5 = n.readlines()\n",
    "data5 = map(lambda x: x.rstrip(), data5)\n",
    "data_json_str5 = \"[\" + ','.join(data5) + \"]\""
   ]
  },
  {
   "cell_type": "code",
   "execution_count": 7,
   "metadata": {
    "collapsed": false
   },
   "outputs": [],
   "source": [
    "review_data = pd.read_json(data_json_str4)"
   ]
  },
  {
   "cell_type": "code",
   "execution_count": 57,
   "metadata": {
    "collapsed": false
   },
   "outputs": [
    {
     "data": {
      "text/plain": [
       "Index(['business_id', 'date', 'review_id', 'stars', 'text', 'type', 'user_id',\n",
       "       'votes'],\n",
       "      dtype='object')"
      ]
     },
     "execution_count": 57,
     "metadata": {},
     "output_type": "execute_result"
    }
   ],
   "source": [
    "review_data.columns"
   ]
  },
  {
   "cell_type": "code",
   "execution_count": 8,
   "metadata": {
    "collapsed": false
   },
   "outputs": [],
   "source": [
    "business_data = pd.read_json(data_json_str3)"
   ]
  },
  {
   "cell_type": "code",
   "execution_count": 58,
   "metadata": {
    "collapsed": false
   },
   "outputs": [
    {
     "data": {
      "text/plain": [
       "Index(['attributes', 'business_id', 'categories', 'city', 'full_address',\n",
       "       'hours', 'latitude', 'longitude', 'name', 'neighborhoods', 'open',\n",
       "       'review_count', 'stars', 'state', 'type', 'Restaurant_Check',\n",
       "       'restaurant_flag', 'kid_friendly'],\n",
       "      dtype='object')"
      ]
     },
     "execution_count": 58,
     "metadata": {},
     "output_type": "execute_result"
    }
   ],
   "source": [
    "business_data.columns"
   ]
  },
  {
   "cell_type": "code",
   "execution_count": 9,
   "metadata": {
    "collapsed": true
   },
   "outputs": [],
   "source": [
    "user_data = pd.read_json(data_json_str)"
   ]
  },
  {
   "cell_type": "code",
   "execution_count": 59,
   "metadata": {
    "collapsed": false
   },
   "outputs": [
    {
     "data": {
      "text/plain": [
       "Index(['user_id', 'yelping_since', 'Years Yelping'], dtype='object')"
      ]
     },
     "execution_count": 59,
     "metadata": {},
     "output_type": "execute_result"
    }
   ],
   "source": [
    "user_data.columns"
   ]
  },
  {
   "cell_type": "code",
   "execution_count": 10,
   "metadata": {
    "collapsed": true
   },
   "outputs": [],
   "source": [
    "checkin_data = pd.read_json(data_json_str5)"
   ]
  },
  {
   "cell_type": "code",
   "execution_count": 60,
   "metadata": {
    "collapsed": false
   },
   "outputs": [
    {
     "data": {
      "text/plain": [
       "Index(['business_id', 'checkin_info', 'type', 'late_checkins',\n",
       "       'nonlate_checkins'],\n",
       "      dtype='object')"
      ]
     },
     "execution_count": 60,
     "metadata": {},
     "output_type": "execute_result"
    }
   ],
   "source": [
    "checkin_data.columns"
   ]
  },
  {
   "cell_type": "markdown",
   "metadata": {},
   "source": [
    "## Creating the Restaurant file for Montreal, Las Vegas, Charlotte, Phoenix"
   ]
  },
  {
   "cell_type": "markdown",
   "metadata": {},
   "source": [
    "To clean up the files for proper use, we had to extract only restuarant and night life businesses. We defined a function to get all restaurant categories from the categories field in the business_data table and created a restaurant flag that would determine if the business was a restaurant."
   ]
  },
  {
   "cell_type": "code",
   "execution_count": 11,
   "metadata": {
    "collapsed": true
   },
   "outputs": [],
   "source": [
    "def restaurant_check(categories):\n",
    "    restaurant=['Restaurants','Food','Nightlife','Bars','Fast Food','Mexican','Sandwiches','Pizza','American (Traditional)',\n",
    "'Coffee & Tea','Burgers','Chinese','Italian','American (New)','Breakfast & Brunch','Specialty Food','Bakeries','Japanese',\n",
    "'Cafes','Ice Cream & Frozen Yogurt','Sushi Bars','Desserts','Sports Bars','Seafood','Chicken Wings','Delis','French',\n",
    "'Steakhouses','Barbeque','Asian Fusion','Pubs','Mediterranean']\n",
    "    for category in categories:\n",
    "        if category in restaurant:\n",
    "            return \"Yes\"\n",
    "business_data[\"Restaurant_Check\"] = business_data.categories.map(restaurant_check)"
   ]
  },
  {
   "cell_type": "markdown",
   "metadata": {},
   "source": [
    "We found a small error in the file where there were two Montreal values. One with an accent mark and one without. We created a basic function to return Montréal as Montreal."
   ]
  },
  {
   "cell_type": "code",
   "execution_count": 12,
   "metadata": {
    "collapsed": true
   },
   "outputs": [],
   "source": [
    "def mont(city):\n",
    "    if city == 'Montréal':\n",
    "        return 'Montreal'\n",
    "    else:\n",
    "        return city\n",
    "\n",
    "business_data['city']=business_data.city.map(mont)"
   ]
  },
  {
   "cell_type": "markdown",
   "metadata": {},
   "source": [
    "We filtered the existing business list to make sure the business was in Las Vegas, Montreal, Charlotte, and Phoenix. We also filtered only business that has a \"Yes\" restaurant flag as determined by our function above. We created a business_data_city CSV file that we will merge with additional data."
   ]
  },
  {
   "cell_type": "code",
   "execution_count": 13,
   "metadata": {
    "collapsed": false,
    "scrolled": false
   },
   "outputs": [
    {
     "name": "stderr",
     "output_type": "stream",
     "text": [
      "/Users/melaniecostello/anaconda/lib/python3.5/site-packages/ipykernel/__main__.py:3: SettingWithCopyWarning: \n",
      "A value is trying to be set on a copy of a slice from a DataFrame.\n",
      "Try using .loc[row_indexer,col_indexer] = value instead\n",
      "\n",
      "See the caveats in the documentation: http://pandas.pydata.org/pandas-docs/stable/indexing.html#indexing-view-versus-copy\n",
      "  app.launch_new_instance()\n"
     ]
    }
   ],
   "source": [
    "cities= ['Las Vegas','Phoenix','Charlotte','Montreal']\n",
    "df2 = business_data[business_data['city'].isin(cities)]\n",
    "df2[\"Restaurant_Check\"] = df2.categories.map(restaurant_check)\n",
    "df3 = df2[df2['Restaurant_Check']=='Yes']\n",
    "df3.to_csv('business_data_city.csv')"
   ]
  },
  {
   "cell_type": "markdown",
   "metadata": {},
   "source": [
    "## Creating the Final Review File"
   ]
  },
  {
   "cell_type": "markdown",
   "metadata": {},
   "source": [
    "To combine the restaurant list we created previous with the review list. This is the final data set we used."
   ]
  },
  {
   "cell_type": "code",
   "execution_count": 14,
   "metadata": {
    "collapsed": false
   },
   "outputs": [],
   "source": [
    "final_rest = pd.read_csv('business_data_city.csv',encoding='latin-1')\n",
    "final_rest = final_rest[final_rest.city != '4.0']\n",
    "del final_rest['Unnamed: 0']"
   ]
  },
  {
   "cell_type": "markdown",
   "metadata": {},
   "source": [
    "We renamed the columns and wrote the review data to a csv file to share amongst team members."
   ]
  },
  {
   "cell_type": "code",
   "execution_count": 15,
   "metadata": {
    "collapsed": true
   },
   "outputs": [],
   "source": [
    "final_review = review_data.merge(final_rest,how=\"right\", on=\"business_id\")\n",
    "final_review = final_review.rename(columns={'stars_x':'rev_rate', 'stars_y':'restaurant_rate'})"
   ]
  },
  {
   "cell_type": "code",
   "execution_count": 16,
   "metadata": {
    "collapsed": false
   },
   "outputs": [],
   "source": [
    "final_review.to_csv('final_review.csv')"
   ]
  },
  {
   "cell_type": "markdown",
   "metadata": {},
   "source": [
    "## Longtime Yelp Users and Average Star Rating"
   ]
  },
  {
   "cell_type": "markdown",
   "metadata": {},
   "source": [
    "We binned users into the years they have been yelping for to see how their ratings differed from new adopters"
   ]
  },
  {
   "cell_type": "markdown",
   "metadata": {},
   "source": [
    "We called in the final_review csv we created earlier to merge with the user longevity we are creating from the user_data"
   ]
  },
  {
   "cell_type": "code",
   "execution_count": 17,
   "metadata": {
    "collapsed": false
   },
   "outputs": [
    {
     "name": "stderr",
     "output_type": "stream",
     "text": [
      "/Users/melaniecostello/anaconda/lib/python3.5/site-packages/IPython/core/interactiveshell.py:2723: DtypeWarning: Columns (0,4,18) have mixed types. Specify dtype option on import or set low_memory=False.\n",
      "  interactivity=interactivity, compiler=compiler, result=result)\n"
     ]
    }
   ],
   "source": [
    "final_review_bus = pd.read_csv('final_review.csv')\n",
    "final_review_bus = final_review_bus[final_review_bus.city != '4.0'] # cleanup\n",
    "final_review_bus = final_review_bus[final_review_bus.open != 'Yes'] # cleanup"
   ]
  },
  {
   "cell_type": "code",
   "execution_count": 18,
   "metadata": {
    "collapsed": true
   },
   "outputs": [],
   "source": [
    "user_data = user_data[['user_id','yelping_since']]"
   ]
  },
  {
   "cell_type": "markdown",
   "metadata": {},
   "source": [
    "We needed to convert_yelping since to a datetime value. We found the max data of the column (1-1-2016) and used this to calculate how many years users have been using yelp."
   ]
  },
  {
   "cell_type": "code",
   "execution_count": 19,
   "metadata": {
    "collapsed": false
   },
   "outputs": [],
   "source": [
    "user_data['yelping_since'] = pd.to_datetime(user_data['yelping_since'])\n",
    "max_date=user_data.yelping_since.max()\n",
    "user_data['Years Yelping'] = round((max_date-user_data.yelping_since)/np.timedelta64(1, 'Y'))"
   ]
  },
  {
   "cell_type": "code",
   "execution_count": 20,
   "metadata": {
    "collapsed": true
   },
   "outputs": [],
   "source": [
    "final_user=final_review_bus.merge(user_data,how='left',on='user_id')"
   ]
  },
  {
   "cell_type": "code",
   "execution_count": 21,
   "metadata": {
    "collapsed": false
   },
   "outputs": [],
   "source": [
    "#needed up to update type of rev_rate field\n",
    "final_user['rev_rate'] = final_user['rev_rate'].astype(float)"
   ]
  },
  {
   "cell_type": "code",
   "execution_count": 22,
   "metadata": {
    "collapsed": false
   },
   "outputs": [
    {
     "data": {
      "text/plain": [
       "<matplotlib.text.Text at 0x134d024e0>"
      ]
     },
     "execution_count": 22,
     "metadata": {},
     "output_type": "execute_result"
    },
    {
     "data": {
      "image/png": "[encoded data removed]",
      "text/plain": [
       "<matplotlib.figure.Figure at 0x164cb7710>"
      ]
     },
     "metadata": {},
     "output_type": "display_data"
    }
   ],
   "source": [
    "final_user.groupby('Years Yelping').rev_rate.mean().plot(title=\"Average Rating by Years Yelping\").set_ylabel(\"Average Star Rating\")"
   ]
  },
  {
   "cell_type": "markdown",
   "metadata": {},
   "source": [
    "The longer a user uses yelp  they start giving lower ratings. Let's dig down and see if this is like this accross for our cities. "
   ]
  },
  {
   "cell_type": "code",
   "execution_count": 23,
   "metadata": {
    "collapsed": false,
    "scrolled": true
   },
   "outputs": [
    {
     "data": {
      "text/plain": [
       "<matplotlib.axes._subplots.AxesSubplot at 0x137e0d588>"
      ]
     },
     "execution_count": 23,
     "metadata": {},
     "output_type": "execute_result"
    },
    {
     "data": {
      "image/png": "[encoded data removed]",
      "text/plain": [
       "<matplotlib.figure.Figure at 0x138e13400>"
      ]
     },
     "metadata": {},
     "output_type": "display_data"
    }
   ],
   "source": [
    "final_user[final_user['city']=='Las Vegas'].groupby('Years Yelping').rev_rate.mean().plot(label='Las Vegas',legend=True).set_ylabel(\"Average Star Rating\")\n",
    "final_user[final_user['city']=='Montreal'].groupby('Years Yelping').rev_rate.mean().plot(label='Montreal',legend=True)\n",
    "final_user[final_user['city']=='Phoenix'].groupby('Years Yelping').rev_rate.mean().plot(label='Phoenix',legend=True)\n",
    "final_user[final_user['city']=='Charlotte'].groupby('Years Yelping').rev_rate.mean().plot(label='Charlotte',legend=True)"
   ]
  },
  {
   "cell_type": "markdown",
   "metadata": {},
   "source": [
    "With the exception of Montreal and Phoenix, there seems to be a downward correlation with the average rating a longtime user gives a review. Let's see how many users in each category are longtime users"
   ]
  },
  {
   "cell_type": "code",
   "execution_count": 24,
   "metadata": {
    "collapsed": false
   },
   "outputs": [
    {
     "data": {
      "text/plain": [
       "<matplotlib.text.Text at 0x1657f5278>"
      ]
     },
     "execution_count": 24,
     "metadata": {},
     "output_type": "execute_result"
    },
    {
     "data": {
      "image/png": "[encoded data removed]",
      "text/plain": [
       "<matplotlib.figure.Figure at 0x16a6077f0>"
      ]
     },
     "metadata": {},
     "output_type": "display_data"
    }
   ],
   "source": [
    "final_user.groupby('Years Yelping').user_id.count().plot(kind='bar').set_ylabel(\"Number of Users\")"
   ]
  },
  {
   "cell_type": "markdown",
   "metadata": {},
   "source": [
    "### Late Night CheckIn"
   ]
  },
  {
   "cell_type": "markdown",
   "metadata": {},
   "source": [
    "The checkin dataset was much smaller than the review dataset, so we were able to read in the raw data, containing checkin info from all the cities in the Yelp dataset.\n",
    "We referred to the Yelp site that hosted the checkin data to understand how to \"translate\" the data in the checkin_info column. The checkin_info is in dictionary format. The keys are pairs of numbers separated by a dash. The first number is the hour (in military time). The second is the day of the week (starting with 0 for Sunday). The dictionary values are the number of checkins at that business, during that hour, on that day of the week. For example, '14-6':1 refers to one checkin that happened between 2:00 & 3:00 p.m. on a Saturday.\n",
    "\n",
    "We had to figure out a way to determine how many late night checkins each business had. We decided that checkins that happened between 11 p.m. and 4 a.m. were considered \"late night checkins.\" The function belows tallies the late night checkins and non-late checkings (to account for all checkin data). We applied it to the checkin_info column and added the new column, late_checkins and nonlate_checkins, to the dataset. See below\n"
   ]
  },
  {
   "cell_type": "code",
   "execution_count": 25,
   "metadata": {
    "collapsed": true
   },
   "outputs": [],
   "source": [
    "# One thing to note: I arbitrarily decided late night checkins must happen\n",
    "# between the hours of 11 p.m. and 3 a.m.\n",
    "\n",
    "def checkin_translate(d):\n",
    "    new_keys = []\n",
    "    late_hours = ['23', '0', '1', '2', '3']\n",
    "    checkin_total = 0\n",
    "    for keys in d:\n",
    "        split_keys = keys.split('-')\n",
    "        split_keys.append(d[keys])\n",
    "        new_keys.append(split_keys)\n",
    "    for elem in new_keys:\n",
    "        if elem[0] in late_hours:\n",
    "            checkin_total += elem[2]\n",
    "    return checkin_total\n",
    "\n",
    "def checkin_nonlate(d):\n",
    "    new_keys = []\n",
    "    late_hours = ['23', '0', '1', '2', '3']\n",
    "    checkin_total = 0\n",
    "    for keys in d:\n",
    "        split_keys = keys.split('-')\n",
    "        split_keys.append(d[keys])\n",
    "        new_keys.append(split_keys)\n",
    "    for elem in new_keys:\n",
    "        if elem[0] not in late_hours:\n",
    "            checkin_total += elem[2]\n",
    "    return checkin_total\n",
    "\n",
    "checkin_data['late_checkins'] = checkin_data.checkin_info.apply(checkin_translate)\n",
    "checkin_data['nonlate_checkins'] = checkin_data.checkin_info.apply(checkin_nonlate)"
   ]
  },
  {
   "cell_type": "markdown",
   "metadata": {},
   "source": [
    "We set the index to business_id and created a CSV file to call in our analysis later on."
   ]
  },
  {
   "cell_type": "code",
   "execution_count": 26,
   "metadata": {
    "collapsed": false
   },
   "outputs": [],
   "source": [
    "checkin_data_modified = checkin_data.set_index('business_id')\n",
    "checkin_data_modified.to_csv(\"checkin_with_late_night.csv\", index_label='business_id')"
   ]
  },
  {
   "cell_type": "markdown",
   "metadata": {},
   "source": [
    "#### Total Number of Late Checkins by City"
   ]
  },
  {
   "cell_type": "code",
   "execution_count": 27,
   "metadata": {
    "collapsed": true
   },
   "outputs": [],
   "source": [
    "check_in = pd.read_csv(\"checkin_with_late_night.csv\")\n",
    "city_bus = pd.read_csv(\"business_data_city.csv\",encoding='latin-1')\n",
    "bus_check=city_bus.merge(check_in,how='inner',on='business_id')"
   ]
  },
  {
   "cell_type": "code",
   "execution_count": 28,
   "metadata": {
    "collapsed": false
   },
   "outputs": [
    {
     "data": {
      "text/plain": [
       "<matplotlib.axes._subplots.AxesSubplot at 0x1606e30b8>"
      ]
     },
     "execution_count": 28,
     "metadata": {},
     "output_type": "execute_result"
    },
    {
     "data": {
      "image/png": "[encoded data removed]",
      "text/plain": [
       "<matplotlib.figure.Figure at 0x15c81d9e8>"
      ]
     },
     "metadata": {},
     "output_type": "display_data"
    }
   ],
   "source": [
    "bus_check.groupby('city').late_checkins.sum().sort_values(ascending=False).plot(kind='bar')"
   ]
  },
  {
   "cell_type": "code",
   "execution_count": 29,
   "metadata": {
    "collapsed": true
   },
   "outputs": [],
   "source": [
    "late=bus_check.groupby('city').late_checkins.sum()\n",
    "non_late=bus_check.groupby('city').nonlate_checkins.sum()\n",
    "total=late+non_late"
   ]
  },
  {
   "cell_type": "code",
   "execution_count": 30,
   "metadata": {
    "collapsed": false
   },
   "outputs": [
    {
     "data": {
      "text/plain": [
       "city\n",
       "Charlotte    0.008677\n",
       "Las Vegas    0.089501\n",
       "Montreal     0.013370\n",
       "Phoenix      0.023875\n",
       "dtype: float64"
      ]
     },
     "execution_count": 30,
     "metadata": {},
     "output_type": "execute_result"
    }
   ],
   "source": [
    "#This is the proportion of data\n",
    "late/total"
   ]
  },
  {
   "cell_type": "code",
   "execution_count": 31,
   "metadata": {
    "collapsed": false
   },
   "outputs": [
    {
     "data": {
      "text/plain": [
       "<matplotlib.text.Text at 0x1475e69b0>"
      ]
     },
     "execution_count": 31,
     "metadata": {},
     "output_type": "execute_result"
    },
    {
     "data": {
      "image/png": "[encoded data removed]",
      "text/plain": [
       "<matplotlib.figure.Figure at 0x148e8ca20>"
      ]
     },
     "metadata": {},
     "output_type": "display_data"
    }
   ],
   "source": [
    "df = pd.DataFrame([total,late]).T\n",
    "df.columns=['Total Checkins','Late_Checkins']\n",
    "df.plot(kind='bar',stacked=True).set_ylabel('# of Checkins')"
   ]
  },
  {
   "cell_type": "markdown",
   "metadata": {},
   "source": [
    "### Kid Friendly"
   ]
  },
  {
   "cell_type": "markdown",
   "metadata": {
    "collapsed": true
   },
   "source": [
    "After creating the final review file (final_rest) and distributing it to all group members, we ran into a couple of problems as we split pu the work and tackled parts of the project independently.  The kid-friendly analysis was dependent upon a column whose data type in the raw data was a dictionary.  Somewhere in the merge/append/write to csv process, that column got converted to a string.  So for the purposes of this portion, we went back to the raw data and applied the same logic to normalize the spelling of Montreal & get the restaurant flag."
   ]
  },
  {
   "cell_type": "code",
   "execution_count": 32,
   "metadata": {
    "collapsed": false
   },
   "outputs": [],
   "source": [
    "def mont(city):\n",
    "    if city == 'Montréal':\n",
    "        return 'Montreal'\n",
    "    else:\n",
    "        return city\n",
    "business_data['city']=business_data.city.map(mont)"
   ]
  },
  {
   "cell_type": "code",
   "execution_count": 33,
   "metadata": {
    "collapsed": true
   },
   "outputs": [],
   "source": [
    "def restaurant_check(l):\n",
    "    \"\"\"Takes in a list and looks for keywords to populate a\n",
    "    flag indicating a Yelp business is a restaurant.\"\"\"\n",
    "    \n",
    "    desired = ['Restaurants','Food','Nightlife','Bars','Fast Food','Mexican',\n",
    "               'Sandwiches','Pizza','American (Traditional)', 'Coffee & Tea',\n",
    "               'Burgers','Chinese','Italian','American (New)','Breakfast & Brunch',\n",
    "               'Specialty Food','Bakeries','Japanese','Cafes',\n",
    "               'Ice Cream & Frozen Yogurt','Sushi Bars','Desserts','Sports Bars',\n",
    "               'Seafood','Chicken Wings','Delis','French','Steakhouses','Barbeque',\n",
    "               'Asian Fusion','Pubs','Mediterranean']\n",
    "    flag = 0\n",
    "    for elem in l:\n",
    "        if elem in desired:\n",
    "            flag = 1\n",
    "    return flag\n",
    "business_data['restaurant_flag'] = business_data.categories.apply(restaurant_check)"
   ]
  },
  {
   "cell_type": "code",
   "execution_count": 34,
   "metadata": {
    "collapsed": true
   },
   "outputs": [],
   "source": [
    "def kid_friendly_check(d):\n",
    "    \"\"\"Takes a Yelp attributes dictionary as input\n",
    "    and checks for a specific keywords\"\"\"\n",
    "    votes = 0\n",
    "    for elem in d:\n",
    "        if elem == 'Good for Kids':\n",
    "            if d['Good for Kids'] == True:\n",
    "                votes = 1\n",
    "    return votes\n",
    "\n",
    "business_data['kid_friendly'] = business_data.attributes.apply(kid_friendly_check)"
   ]
  },
  {
   "cell_type": "markdown",
   "metadata": {},
   "source": [
    "We want to do a quick check to make sure those columns showed up as we intended."
   ]
  },
  {
   "cell_type": "code",
   "execution_count": 35,
   "metadata": {
    "collapsed": false
   },
   "outputs": [
    {
     "data": {
      "text/html": [
       "<div>\n",
       "<table border=\"1\" class=\"dataframe\">\n",
       "  <thead>\n",
       "    <tr style=\"text-align: right;\">\n",
       "      <th></th>\n",
       "      <th>attributes</th>\n",
       "      <th>business_id</th>\n",
       "      <th>categories</th>\n",
       "      <th>city</th>\n",
       "      <th>full_address</th>\n",
       "      <th>hours</th>\n",
       "      <th>latitude</th>\n",
       "      <th>longitude</th>\n",
       "      <th>name</th>\n",
       "      <th>neighborhoods</th>\n",
       "      <th>open</th>\n",
       "      <th>review_count</th>\n",
       "      <th>stars</th>\n",
       "      <th>state</th>\n",
       "      <th>type</th>\n",
       "      <th>Restaurant_Check</th>\n",
       "      <th>restaurant_flag</th>\n",
       "      <th>kid_friendly</th>\n",
       "    </tr>\n",
       "  </thead>\n",
       "  <tbody>\n",
       "    <tr>\n",
       "      <th>0</th>\n",
       "      <td>{'Outdoor Seating': False, 'Good For Groups': ...</td>\n",
       "      <td>5UmKMjUEUNdYWqANhGckJw</td>\n",
       "      <td>[Fast Food, Restaurants]</td>\n",
       "      <td>Dravosburg</td>\n",
       "      <td>4734 Lebanon Church Rd\\nDravosburg, PA 15034</td>\n",
       "      <td>{'Tuesday': {'close': '21:00', 'open': '11:00'...</td>\n",
       "      <td>40.354327</td>\n",
       "      <td>-79.900706</td>\n",
       "      <td>Mr Hoagie</td>\n",
       "      <td>[]</td>\n",
       "      <td>True</td>\n",
       "      <td>4</td>\n",
       "      <td>4.5</td>\n",
       "      <td>PA</td>\n",
       "      <td>business</td>\n",
       "      <td>Yes</td>\n",
       "      <td>1</td>\n",
       "      <td>1</td>\n",
       "    </tr>\n",
       "    <tr>\n",
       "      <th>1</th>\n",
       "      <td>{'Good For Groups': True, 'Accepts Credit Card...</td>\n",
       "      <td>UsFtqoBl7naz8AVUBZMjQQ</td>\n",
       "      <td>[Nightlife]</td>\n",
       "      <td>Dravosburg</td>\n",
       "      <td>202 McClure St\\nDravosburg, PA 15034</td>\n",
       "      <td>{}</td>\n",
       "      <td>40.350553</td>\n",
       "      <td>-79.886814</td>\n",
       "      <td>Clancy's Pub</td>\n",
       "      <td>[]</td>\n",
       "      <td>True</td>\n",
       "      <td>4</td>\n",
       "      <td>3.5</td>\n",
       "      <td>PA</td>\n",
       "      <td>business</td>\n",
       "      <td>Yes</td>\n",
       "      <td>1</td>\n",
       "      <td>0</td>\n",
       "    </tr>\n",
       "    <tr>\n",
       "      <th>2</th>\n",
       "      <td>{}</td>\n",
       "      <td>3eu6MEFlq2Dg7bQh8QbdOg</td>\n",
       "      <td>[Auto Repair, Automotive]</td>\n",
       "      <td>Dravosburg</td>\n",
       "      <td>1 Ravine St\\nDravosburg, PA 15034</td>\n",
       "      <td>{}</td>\n",
       "      <td>40.350956</td>\n",
       "      <td>-79.889059</td>\n",
       "      <td>Joe Cislo's Auto</td>\n",
       "      <td>[]</td>\n",
       "      <td>True</td>\n",
       "      <td>3</td>\n",
       "      <td>5.0</td>\n",
       "      <td>PA</td>\n",
       "      <td>business</td>\n",
       "      <td>None</td>\n",
       "      <td>0</td>\n",
       "      <td>0</td>\n",
       "    </tr>\n",
       "    <tr>\n",
       "      <th>3</th>\n",
       "      <td>{'Good for Kids': True}</td>\n",
       "      <td>cE27W9VPgO88Qxe4ol6y_g</td>\n",
       "      <td>[Active Life, Mini Golf, Golf]</td>\n",
       "      <td>Bethel Park</td>\n",
       "      <td>1530 Hamilton Rd\\nBethel Park, PA 15234</td>\n",
       "      <td>{}</td>\n",
       "      <td>40.354115</td>\n",
       "      <td>-80.014660</td>\n",
       "      <td>Cool Springs Golf Center</td>\n",
       "      <td>[]</td>\n",
       "      <td>False</td>\n",
       "      <td>5</td>\n",
       "      <td>2.5</td>\n",
       "      <td>PA</td>\n",
       "      <td>business</td>\n",
       "      <td>None</td>\n",
       "      <td>0</td>\n",
       "      <td>1</td>\n",
       "    </tr>\n",
       "    <tr>\n",
       "      <th>4</th>\n",
       "      <td>{'Parking': {'garage': False, 'validated': Fal...</td>\n",
       "      <td>HZdLhv6COCleJMo7nPl-RA</td>\n",
       "      <td>[Shopping, Home Services, Internet Service Pro...</td>\n",
       "      <td>Pittsburgh</td>\n",
       "      <td>301 South Hills Village\\nPittsburgh, PA 15241</td>\n",
       "      <td>{'Thursday': {'close': '17:00', 'open': '10:00...</td>\n",
       "      <td>40.357620</td>\n",
       "      <td>-80.059980</td>\n",
       "      <td>Verizon</td>\n",
       "      <td>[]</td>\n",
       "      <td>True</td>\n",
       "      <td>5</td>\n",
       "      <td>2.5</td>\n",
       "      <td>PA</td>\n",
       "      <td>business</td>\n",
       "      <td>None</td>\n",
       "      <td>0</td>\n",
       "      <td>0</td>\n",
       "    </tr>\n",
       "  </tbody>\n",
       "</table>\n",
       "</div>"
      ],
      "text/plain": [
       "                                          attributes             business_id  \\\n",
       "0  {'Outdoor Seating': False, 'Good For Groups': ...  5UmKMjUEUNdYWqANhGckJw   \n",
       "1  {'Good For Groups': True, 'Accepts Credit Card...  UsFtqoBl7naz8AVUBZMjQQ   \n",
       "2                                                 {}  3eu6MEFlq2Dg7bQh8QbdOg   \n",
       "3                            {'Good for Kids': True}  cE27W9VPgO88Qxe4ol6y_g   \n",
       "4  {'Parking': {'garage': False, 'validated': Fal...  HZdLhv6COCleJMo7nPl-RA   \n",
       "\n",
       "                                          categories         city  \\\n",
       "0                           [Fast Food, Restaurants]   Dravosburg   \n",
       "1                                        [Nightlife]   Dravosburg   \n",
       "2                          [Auto Repair, Automotive]   Dravosburg   \n",
       "3                     [Active Life, Mini Golf, Golf]  Bethel Park   \n",
       "4  [Shopping, Home Services, Internet Service Pro...   Pittsburgh   \n",
       "\n",
       "                                    full_address  \\\n",
       "0   4734 Lebanon Church Rd\\nDravosburg, PA 15034   \n",
       "1           202 McClure St\\nDravosburg, PA 15034   \n",
       "2              1 Ravine St\\nDravosburg, PA 15034   \n",
       "3        1530 Hamilton Rd\\nBethel Park, PA 15234   \n",
       "4  301 South Hills Village\\nPittsburgh, PA 15241   \n",
       "\n",
       "                                               hours   latitude  longitude  \\\n",
       "0  {'Tuesday': {'close': '21:00', 'open': '11:00'...  40.354327 -79.900706   \n",
       "1                                                 {}  40.350553 -79.886814   \n",
       "2                                                 {}  40.350956 -79.889059   \n",
       "3                                                 {}  40.354115 -80.014660   \n",
       "4  {'Thursday': {'close': '17:00', 'open': '10:00...  40.357620 -80.059980   \n",
       "\n",
       "                       name neighborhoods   open  review_count  stars state  \\\n",
       "0                 Mr Hoagie            []   True             4    4.5    PA   \n",
       "1              Clancy's Pub            []   True             4    3.5    PA   \n",
       "2          Joe Cislo's Auto            []   True             3    5.0    PA   \n",
       "3  Cool Springs Golf Center            []  False             5    2.5    PA   \n",
       "4                   Verizon            []   True             5    2.5    PA   \n",
       "\n",
       "       type Restaurant_Check  restaurant_flag  kid_friendly  \n",
       "0  business              Yes                1             1  \n",
       "1  business              Yes                1             0  \n",
       "2  business             None                0             0  \n",
       "3  business             None                0             1  \n",
       "4  business             None                0             0  "
      ]
     },
     "execution_count": 35,
     "metadata": {},
     "output_type": "execute_result"
    }
   ],
   "source": [
    "business_data.head()"
   ]
  },
  {
   "cell_type": "markdown",
   "metadata": {},
   "source": [
    "Now that we've populated the flags we want, it's time to narrow down the datasets to just the cities we want to look at. Since the cities have very different volumes of businesses in the Yelp dataset, we decided we couldn't directly compare numbers of kid-friendly places. We decided to do it by proportion of kid-friendly restaurants in relation to total number of restaurants. We first looked at each city individually. First up, Las Vegas."
   ]
  },
  {
   "cell_type": "markdown",
   "metadata": {},
   "source": [
    "### Las Vegas"
   ]
  },
  {
   "cell_type": "code",
   "execution_count": 36,
   "metadata": {
    "collapsed": true
   },
   "outputs": [],
   "source": [
    "biz_Vegas = business_data[(business_data['city'] == 'Las Vegas') & (business_data['restaurant_flag'] == 1)]"
   ]
  },
  {
   "cell_type": "code",
   "execution_count": 37,
   "metadata": {
    "collapsed": false
   },
   "outputs": [
    {
     "data": {
      "text/plain": [
       "0.5623055267447029"
      ]
     },
     "execution_count": 37,
     "metadata": {},
     "output_type": "execute_result"
    }
   ],
   "source": [
    "LAS_kid_places = biz_Vegas.kid_friendly.sum()\n",
    "LAS_total = len(biz_Vegas)\n",
    "LAS_proportion = LAS_kid_places / LAS_total\n",
    "\n",
    "LAS_proportion"
   ]
  },
  {
   "cell_type": "markdown",
   "metadata": {},
   "source": [
    "56% of Las Vegas businesses we determined to be restaurants were reviewed on Yelp and deemed 'kid-friendly.' That's more than we expected.  Now we want to figure out how many places are not kid-friendly."
   ]
  },
  {
   "cell_type": "code",
   "execution_count": 38,
   "metadata": {
    "collapsed": false
   },
   "outputs": [
    {
     "data": {
      "text/plain": [
       "2954"
      ]
     },
     "execution_count": 38,
     "metadata": {},
     "output_type": "execute_result"
    }
   ],
   "source": [
    "LAS_no_kids = LAS_total - LAS_kid_places\n",
    "LAS_no_kids"
   ]
  },
  {
   "cell_type": "markdown",
   "metadata": {},
   "source": [
    "### Phoenix"
   ]
  },
  {
   "cell_type": "code",
   "execution_count": 39,
   "metadata": {
    "collapsed": false
   },
   "outputs": [
    {
     "data": {
      "text/html": [
       "<div>\n",
       "<table border=\"1\" class=\"dataframe\">\n",
       "  <thead>\n",
       "    <tr style=\"text-align: right;\">\n",
       "      <th></th>\n",
       "      <th>attributes</th>\n",
       "      <th>business_id</th>\n",
       "      <th>categories</th>\n",
       "      <th>city</th>\n",
       "      <th>full_address</th>\n",
       "      <th>hours</th>\n",
       "      <th>latitude</th>\n",
       "      <th>longitude</th>\n",
       "      <th>name</th>\n",
       "      <th>neighborhoods</th>\n",
       "      <th>open</th>\n",
       "      <th>review_count</th>\n",
       "      <th>stars</th>\n",
       "      <th>state</th>\n",
       "      <th>type</th>\n",
       "      <th>Restaurant_Check</th>\n",
       "      <th>restaurant_flag</th>\n",
       "      <th>kid_friendly</th>\n",
       "    </tr>\n",
       "  </thead>\n",
       "  <tbody>\n",
       "    <tr>\n",
       "      <th>2216</th>\n",
       "      <td>{'Outdoor Seating': False, 'Good For Groups': ...</td>\n",
       "      <td>x5Mv61CnZLohZWxfCVCPTQ</td>\n",
       "      <td>[Sandwiches, Pizza, Chicken Wings, Restaurants]</td>\n",
       "      <td>Phoenix</td>\n",
       "      <td>2819 N Central Ave\\nPhoenix, AZ 85004</td>\n",
       "      <td>{'Thursday': {'close': '00:00', 'open': '10:00...</td>\n",
       "      <td>33.479482</td>\n",
       "      <td>-112.073681</td>\n",
       "      <td>Domino's Pizza</td>\n",
       "      <td>[]</td>\n",
       "      <td>True</td>\n",
       "      <td>16</td>\n",
       "      <td>2.5</td>\n",
       "      <td>AZ</td>\n",
       "      <td>business</td>\n",
       "      <td>Yes</td>\n",
       "      <td>1</td>\n",
       "      <td>0</td>\n",
       "    </tr>\n",
       "    <tr>\n",
       "      <th>2217</th>\n",
       "      <td>{'Price Range': 1, 'Good for Kids': True, 'Noi...</td>\n",
       "      <td>2ZnCITVa0abGce4gZ6RhIw</td>\n",
       "      <td>[American (New), Sandwiches, Restaurants]</td>\n",
       "      <td>Phoenix</td>\n",
       "      <td>1850 N Central Ave\\nPhoenix, AZ 85004</td>\n",
       "      <td>{}</td>\n",
       "      <td>33.468547</td>\n",
       "      <td>-112.075085</td>\n",
       "      <td>Viad Tower Restaurants</td>\n",
       "      <td>[]</td>\n",
       "      <td>True</td>\n",
       "      <td>6</td>\n",
       "      <td>3.5</td>\n",
       "      <td>AZ</td>\n",
       "      <td>business</td>\n",
       "      <td>Yes</td>\n",
       "      <td>1</td>\n",
       "      <td>1</td>\n",
       "    </tr>\n",
       "    <tr>\n",
       "      <th>2218</th>\n",
       "      <td>{'Smoking': 'outdoor', 'Alcohol': 'full_bar', ...</td>\n",
       "      <td>EmzaQR5hQlF0WIl24NxAZA</td>\n",
       "      <td>[American (New), Nightlife, Dance Clubs, Resta...</td>\n",
       "      <td>Phoenix</td>\n",
       "      <td>132 E Washington St\\nPhoenix, AZ 85004</td>\n",
       "      <td>{'Thursday': {'close': '03:00', 'open': '09:00...</td>\n",
       "      <td>33.448399</td>\n",
       "      <td>-112.071702</td>\n",
       "      <td>Sky Lounge</td>\n",
       "      <td>[]</td>\n",
       "      <td>True</td>\n",
       "      <td>25</td>\n",
       "      <td>2.5</td>\n",
       "      <td>AZ</td>\n",
       "      <td>business</td>\n",
       "      <td>Yes</td>\n",
       "      <td>1</td>\n",
       "      <td>0</td>\n",
       "    </tr>\n",
       "    <tr>\n",
       "      <th>2219</th>\n",
       "      <td>{'Outdoor Seating': True, 'Smoking': 'outdoor'...</td>\n",
       "      <td>SiwN7f0N4bs4ZtPc4yPgiA</td>\n",
       "      <td>[Bars, Nightlife, Dance Clubs]</td>\n",
       "      <td>Phoenix</td>\n",
       "      <td>710 N Central Ave\\nPhoenix, AZ 85004</td>\n",
       "      <td>{}</td>\n",
       "      <td>33.455885</td>\n",
       "      <td>-112.074177</td>\n",
       "      <td>Palazzo</td>\n",
       "      <td>[]</td>\n",
       "      <td>True</td>\n",
       "      <td>19</td>\n",
       "      <td>3.0</td>\n",
       "      <td>AZ</td>\n",
       "      <td>business</td>\n",
       "      <td>Yes</td>\n",
       "      <td>1</td>\n",
       "      <td>0</td>\n",
       "    </tr>\n",
       "    <tr>\n",
       "      <th>2222</th>\n",
       "      <td>{'Outdoor Seating': True, 'Good For Groups': T...</td>\n",
       "      <td>KPoTixdjoJxSqRSEApSAGg</td>\n",
       "      <td>[Thai, Restaurants]</td>\n",
       "      <td>Phoenix</td>\n",
       "      <td>2631 N Central Ave\\nPhoenix, AZ 85004</td>\n",
       "      <td>{'Thursday': {'close': '21:00', 'open': '11:00...</td>\n",
       "      <td>33.477939</td>\n",
       "      <td>-112.073417</td>\n",
       "      <td>Wild Thaiger</td>\n",
       "      <td>[]</td>\n",
       "      <td>True</td>\n",
       "      <td>432</td>\n",
       "      <td>3.5</td>\n",
       "      <td>AZ</td>\n",
       "      <td>business</td>\n",
       "      <td>Yes</td>\n",
       "      <td>1</td>\n",
       "      <td>1</td>\n",
       "    </tr>\n",
       "  </tbody>\n",
       "</table>\n",
       "</div>"
      ],
      "text/plain": [
       "                                             attributes  \\\n",
       "2216  {'Outdoor Seating': False, 'Good For Groups': ...   \n",
       "2217  {'Price Range': 1, 'Good for Kids': True, 'Noi...   \n",
       "2218  {'Smoking': 'outdoor', 'Alcohol': 'full_bar', ...   \n",
       "2219  {'Outdoor Seating': True, 'Smoking': 'outdoor'...   \n",
       "2222  {'Outdoor Seating': True, 'Good For Groups': T...   \n",
       "\n",
       "                 business_id  \\\n",
       "2216  x5Mv61CnZLohZWxfCVCPTQ   \n",
       "2217  2ZnCITVa0abGce4gZ6RhIw   \n",
       "2218  EmzaQR5hQlF0WIl24NxAZA   \n",
       "2219  SiwN7f0N4bs4ZtPc4yPgiA   \n",
       "2222  KPoTixdjoJxSqRSEApSAGg   \n",
       "\n",
       "                                             categories     city  \\\n",
       "2216    [Sandwiches, Pizza, Chicken Wings, Restaurants]  Phoenix   \n",
       "2217          [American (New), Sandwiches, Restaurants]  Phoenix   \n",
       "2218  [American (New), Nightlife, Dance Clubs, Resta...  Phoenix   \n",
       "2219                     [Bars, Nightlife, Dance Clubs]  Phoenix   \n",
       "2222                                [Thai, Restaurants]  Phoenix   \n",
       "\n",
       "                                full_address  \\\n",
       "2216   2819 N Central Ave\\nPhoenix, AZ 85004   \n",
       "2217   1850 N Central Ave\\nPhoenix, AZ 85004   \n",
       "2218  132 E Washington St\\nPhoenix, AZ 85004   \n",
       "2219    710 N Central Ave\\nPhoenix, AZ 85004   \n",
       "2222   2631 N Central Ave\\nPhoenix, AZ 85004   \n",
       "\n",
       "                                                  hours   latitude  \\\n",
       "2216  {'Thursday': {'close': '00:00', 'open': '10:00...  33.479482   \n",
       "2217                                                 {}  33.468547   \n",
       "2218  {'Thursday': {'close': '03:00', 'open': '09:00...  33.448399   \n",
       "2219                                                 {}  33.455885   \n",
       "2222  {'Thursday': {'close': '21:00', 'open': '11:00...  33.477939   \n",
       "\n",
       "       longitude                    name neighborhoods  open  review_count  \\\n",
       "2216 -112.073681          Domino's Pizza            []  True            16   \n",
       "2217 -112.075085  Viad Tower Restaurants            []  True             6   \n",
       "2218 -112.071702              Sky Lounge            []  True            25   \n",
       "2219 -112.074177                 Palazzo            []  True            19   \n",
       "2222 -112.073417            Wild Thaiger            []  True           432   \n",
       "\n",
       "      stars state      type Restaurant_Check  restaurant_flag  kid_friendly  \n",
       "2216    2.5    AZ  business              Yes                1             0  \n",
       "2217    3.5    AZ  business              Yes                1             1  \n",
       "2218    2.5    AZ  business              Yes                1             0  \n",
       "2219    3.0    AZ  business              Yes                1             0  \n",
       "2222    3.5    AZ  business              Yes                1             1  "
      ]
     },
     "execution_count": 39,
     "metadata": {},
     "output_type": "execute_result"
    }
   ],
   "source": [
    "biz_Phoenix = business_data[(business_data['city'] == 'Phoenix') & (business_data['restaurant_flag'] == 1)]\n",
    "biz_Phoenix.head()"
   ]
  },
  {
   "cell_type": "code",
   "execution_count": 40,
   "metadata": {
    "collapsed": false
   },
   "outputs": [
    {
     "data": {
      "text/plain": [
       "{'Accepts Credit Cards': True,\n",
       " 'Alcohol': 'none',\n",
       " 'Ambience': {'casual': False,\n",
       "  'classy': False,\n",
       "  'divey': False,\n",
       "  'hipster': False,\n",
       "  'intimate': False,\n",
       "  'romantic': False,\n",
       "  'touristy': False,\n",
       "  'trendy': False,\n",
       "  'upscale': False},\n",
       " 'Attire': 'casual',\n",
       " 'Caters': False,\n",
       " 'Delivery': True,\n",
       " 'Good For Groups': False,\n",
       " 'Good for Kids': False,\n",
       " 'Has TV': False,\n",
       " 'Noise Level': 'loud',\n",
       " 'Outdoor Seating': False,\n",
       " 'Parking': {'garage': False,\n",
       "  'lot': True,\n",
       "  'street': False,\n",
       "  'valet': False,\n",
       "  'validated': False},\n",
       " 'Price Range': 2,\n",
       " 'Take-out': True,\n",
       " 'Takes Reservations': False,\n",
       " 'Waiter Service': False,\n",
       " 'Wheelchair Accessible': True,\n",
       " 'Wi-Fi': 'no'}"
      ]
     },
     "execution_count": 40,
     "metadata": {},
     "output_type": "execute_result"
    }
   ],
   "source": [
    "biz_Phoenix.loc[2216].attributes"
   ]
  },
  {
   "cell_type": "markdown",
   "metadata": {},
   "source": [
    "Note the attributes of the first entry. A Domino's Pizza in Phoenix was rated not good for kids. Possible health nut? Maybe. More likely, it's proof that the inferences and analysis sometimes can only be as good as the data that's given. Logically, we'd assume that the 'not good for kids' description is probably inaccurate, but we also don't have any evidence that the rating warrants changing."
   ]
  },
  {
   "cell_type": "code",
   "execution_count": 41,
   "metadata": {
    "collapsed": false
   },
   "outputs": [
    {
     "data": {
      "text/plain": [
       "0.618796992481203"
      ]
     },
     "execution_count": 41,
     "metadata": {},
     "output_type": "execute_result"
    }
   ],
   "source": [
    "PHX_kid_places = biz_Phoenix.kid_friendly.sum()\n",
    "PHX_total = len(biz_Phoenix)\n",
    "PHX_proportion = PHX_kid_places / PHX_total\n",
    "\n",
    "PHX_proportion"
   ]
  },
  {
   "cell_type": "markdown",
   "metadata": {},
   "source": [
    "62% of Phoenix businesses we deemed to be restaurants that were reviewed on Yelp are deemed 'kid-friendly.'"
   ]
  },
  {
   "cell_type": "code",
   "execution_count": 42,
   "metadata": {
    "collapsed": false
   },
   "outputs": [
    {
     "data": {
      "text/plain": [
       "1521"
      ]
     },
     "execution_count": 42,
     "metadata": {},
     "output_type": "execute_result"
    }
   ],
   "source": [
    "PHX_no_kids = PHX_total - PHX_kid_places\n",
    "PHX_no_kids"
   ]
  },
  {
   "cell_type": "markdown",
   "metadata": {},
   "source": [
    "### Charlotte"
   ]
  },
  {
   "cell_type": "code",
   "execution_count": 43,
   "metadata": {
    "collapsed": false
   },
   "outputs": [],
   "source": [
    "biz_Charlotte = business_data[(business_data['city'] == 'Charlotte') & (business_data['restaurant_flag'] == 1)]"
   ]
  },
  {
   "cell_type": "code",
   "execution_count": 44,
   "metadata": {
    "collapsed": false
   },
   "outputs": [
    {
     "data": {
      "text/plain": [
       "0.5715393563396666"
      ]
     },
     "execution_count": 44,
     "metadata": {},
     "output_type": "execute_result"
    }
   ],
   "source": [
    "CLT_kid_places = biz_Charlotte.kid_friendly.sum()\n",
    "CLT_total = len(biz_Charlotte)\n",
    "CLT_proportion = CLT_kid_places / CLT_total\n",
    "\n",
    "CLT_proportion"
   ]
  },
  {
   "cell_type": "markdown",
   "metadata": {},
   "source": [
    "With 57.1% of restaurants deemed kid-friendly, Charlotte is only slightly more kid-friendly than Las Vegas.  We found that surprising."
   ]
  },
  {
   "cell_type": "code",
   "execution_count": 45,
   "metadata": {
    "collapsed": false
   },
   "outputs": [
    {
     "data": {
      "text/plain": [
       "1105"
      ]
     },
     "execution_count": 45,
     "metadata": {},
     "output_type": "execute_result"
    }
   ],
   "source": [
    "CLT_no_kids = CLT_total - CLT_kid_places\n",
    "CLT_no_kids"
   ]
  },
  {
   "cell_type": "markdown",
   "metadata": {},
   "source": [
    "### Montreal"
   ]
  },
  {
   "cell_type": "code",
   "execution_count": 46,
   "metadata": {
    "collapsed": true
   },
   "outputs": [],
   "source": [
    "biz_Montreal = business_data[(business_data['city'] == 'Montreal') & (business_data['restaurant_flag'] == 1)]"
   ]
  },
  {
   "cell_type": "code",
   "execution_count": 47,
   "metadata": {
    "collapsed": false
   },
   "outputs": [
    {
     "data": {
      "text/plain": [
       "0.461465271170314"
      ]
     },
     "execution_count": 47,
     "metadata": {},
     "output_type": "execute_result"
    }
   ],
   "source": [
    "MTL_kid_places = biz_Montreal.kid_friendly.sum()\n",
    "MTL_total = len(biz_Montreal)\n",
    "MTL_proportion = MTL_kid_places / MTL_total\n",
    "\n",
    "MTL_proportion"
   ]
  },
  {
   "cell_type": "markdown",
   "metadata": {},
   "source": [
    "Montreal appears to be the least kid friendly at 46%"
   ]
  },
  {
   "cell_type": "code",
   "execution_count": 48,
   "metadata": {
    "collapsed": false
   },
   "outputs": [
    {
     "data": {
      "text/plain": [
       "1698"
      ]
     },
     "execution_count": 48,
     "metadata": {},
     "output_type": "execute_result"
    }
   ],
   "source": [
    "MTL_no_kids = MTL_total - MTL_kid_places\n",
    "MTL_no_kids"
   ]
  },
  {
   "cell_type": "code",
   "execution_count": 49,
   "metadata": {
    "collapsed": false
   },
   "outputs": [
    {
     "data": {
      "text/html": [
       "<div>\n",
       "<table border=\"1\" class=\"dataframe\">\n",
       "  <thead>\n",
       "    <tr style=\"text-align: right;\">\n",
       "      <th></th>\n",
       "      <th>proportion_kid_friendly</th>\n",
       "    </tr>\n",
       "    <tr>\n",
       "      <th>city</th>\n",
       "      <th></th>\n",
       "    </tr>\n",
       "  </thead>\n",
       "  <tbody>\n",
       "    <tr>\n",
       "      <th>Las Vegas</th>\n",
       "      <td>0.562306</td>\n",
       "    </tr>\n",
       "    <tr>\n",
       "      <th>Phoenix</th>\n",
       "      <td>0.618797</td>\n",
       "    </tr>\n",
       "    <tr>\n",
       "      <th>Charlotte</th>\n",
       "      <td>0.571539</td>\n",
       "    </tr>\n",
       "    <tr>\n",
       "      <th>Montreal</th>\n",
       "      <td>0.461465</td>\n",
       "    </tr>\n",
       "  </tbody>\n",
       "</table>\n",
       "</div>"
      ],
      "text/plain": [
       "           proportion_kid_friendly\n",
       "city                              \n",
       "Las Vegas                 0.562306\n",
       "Phoenix                   0.618797\n",
       "Charlotte                 0.571539\n",
       "Montreal                  0.461465"
      ]
     },
     "execution_count": 49,
     "metadata": {},
     "output_type": "execute_result"
    }
   ],
   "source": [
    "df_proportion = pd.DataFrame({'city':['Las Vegas', 'Phoenix', 'Charlotte', 'Montreal'], 'proportion_kid_friendly':\n",
    "                              [LAS_proportion, PHX_proportion, CLT_proportion, MTL_proportion]}).set_index('city')\n",
    "df_proportion"
   ]
  },
  {
   "cell_type": "markdown",
   "metadata": {},
   "source": [
    "### Kid-friendly Comparison"
   ]
  },
  {
   "cell_type": "code",
   "execution_count": 50,
   "metadata": {
    "collapsed": true
   },
   "outputs": [],
   "source": [
    "compare_df = pd.DataFrame({'City': ['Las Vegas', 'Phoenix', 'Montreal', 'Charlotte'], 'Kid Friendly Places': \n",
    "              [LAS_kid_places, PHX_kid_places, MTL_kid_places, CLT_kid_places], 'Not Kid Friendly Places': \n",
    "              [LAS_no_kids, PHX_no_kids, MTL_no_kids, CLT_no_kids]})"
   ]
  },
  {
   "cell_type": "code",
   "execution_count": 51,
   "metadata": {
    "collapsed": false
   },
   "outputs": [],
   "source": [
    "compare_df.set_index('City', inplace=True)"
   ]
  },
  {
   "cell_type": "code",
   "execution_count": 52,
   "metadata": {
    "collapsed": false
   },
   "outputs": [
    {
     "data": {
      "text/plain": [
       "<matplotlib.axes._subplots.AxesSubplot at 0x13e98ba20>"
      ]
     },
     "execution_count": 52,
     "metadata": {},
     "output_type": "execute_result"
    },
    {
     "data": {
      "image/png": "[encoded data removed]",
      "text/plain": [
       "<matplotlib.figure.Figure at 0x13e9f94e0>"
      ]
     },
     "metadata": {},
     "output_type": "display_data"
    }
   ],
   "source": [
    "compare_df.plot(kind='barh', stacked=True)"
   ]
  },
  {
   "cell_type": "markdown",
   "metadata": {},
   "source": [
    "### Hot Spots\n",
    "From the entire batch of Yelpers, we teased out the best: users who had been given max (4-star) ratings\n",
    "Using the top-rated Yelpers as our guides, we wanted to infer the best places to find good eats in each city. "
   ]
  },
  {
   "cell_type": "code",
   "execution_count": 83,
   "metadata": {
    "collapsed": false
   },
   "outputs": [],
   "source": [
    "df = pd.read_csv('biz_user.csv')\n",
    "del df['Unnamed: 0']"
   ]
  },
  {
   "cell_type": "code",
   "execution_count": 84,
   "metadata": {
    "collapsed": true
   },
   "outputs": [],
   "source": [
    "def useful(votes):\n",
    "    if type(votes) == str:\n",
    "        if 'useful' in votes:      \n",
    "            position = votes.find(':')\n",
    "            stop = votes.find(',')\n",
    "            votes1 = votes[position+2:stop]\n",
    "            return int(votes1)\n",
    "    else:\n",
    "        return int(0)"
   ]
  },
  {
   "cell_type": "code",
   "execution_count": 85,
   "metadata": {
    "collapsed": false
   },
   "outputs": [
    {
     "data": {
      "text/plain": [
       "0      280\n",
       "1    14199\n",
       "2    14199\n",
       "3    14199\n",
       "4    14199\n",
       "Name: useful, dtype: int64"
      ]
     },
     "execution_count": 85,
     "metadata": {},
     "output_type": "execute_result"
    }
   ],
   "source": [
    "df['useful'] = df['votes_x'].apply(useful)\n",
    "df.useful.head()"
   ]
  },
  {
   "cell_type": "markdown",
   "metadata": {},
   "source": [
    "We created a rating system based on the number of \"useful\" votes a user had received and turned it into a star rating, 1 to 4. These stars were based on the quartiles in the data."
   ]
  },
  {
   "cell_type": "code",
   "execution_count": 86,
   "metadata": {
    "collapsed": false
   },
   "outputs": [
    {
     "data": {
      "text/plain": [
       "count     3245.000000\n",
       "mean      2840.705701\n",
       "std       4104.572500\n",
       "min          0.000000\n",
       "25%        811.000000\n",
       "50%       1661.000000\n",
       "75%       3129.000000\n",
       "max      55937.000000\n",
       "Name: useful, dtype: float64"
      ]
     },
     "execution_count": 86,
     "metadata": {},
     "output_type": "execute_result"
    }
   ],
   "source": [
    "df.useful.drop_duplicates().describe()"
   ]
  },
  {
   "cell_type": "code",
   "execution_count": 87,
   "metadata": {
    "collapsed": false
   },
   "outputs": [],
   "source": [
    "def to_stars(useful):\n",
    "    if useful < 600:\n",
    "        return 1\n",
    "    elif 600 <= useful < 1200:\n",
    "        return 2\n",
    "    elif 1200 <= useful < 2500:\n",
    "        return 3\n",
    "    elif 2500 <= useful < 50000:\n",
    "        return 4"
   ]
  },
  {
   "cell_type": "code",
   "execution_count": 88,
   "metadata": {
    "collapsed": true
   },
   "outputs": [],
   "source": [
    "df['user_stars'] = df['useful'].apply(to_stars)"
   ]
  },
  {
   "cell_type": "markdown",
   "metadata": {},
   "source": [
    "Top Yelpers: Yelpers who were rated 4.0 stars\n",
    "\n",
    "We looked at the proportional of high-rated Yelp users to see where they were living. The highest number of top yelpers were in Las Vegas."
   ]
  },
  {
   "cell_type": "code",
   "execution_count": 89,
   "metadata": {
    "collapsed": false,
    "scrolled": true
   },
   "outputs": [
    {
     "data": {
      "text/html": [
       "<div>\n",
       "<table border=\"1\" class=\"dataframe\">\n",
       "  <thead>\n",
       "    <tr style=\"text-align: right;\">\n",
       "      <th></th>\n",
       "      <th>city</th>\n",
       "    </tr>\n",
       "  </thead>\n",
       "  <tbody>\n",
       "    <tr>\n",
       "      <th>Las Vegas</th>\n",
       "      <td>0.039335</td>\n",
       "    </tr>\n",
       "    <tr>\n",
       "      <th>Phoenix</th>\n",
       "      <td>0.027651</td>\n",
       "    </tr>\n",
       "    <tr>\n",
       "      <th>Charlotte</th>\n",
       "      <td>0.026062</td>\n",
       "    </tr>\n",
       "    <tr>\n",
       "      <th>Montreal</th>\n",
       "      <td>0.020660</td>\n",
       "    </tr>\n",
       "  </tbody>\n",
       "</table>\n",
       "</div>"
      ],
      "text/plain": [
       "               city\n",
       "Las Vegas  0.039335\n",
       "Phoenix    0.027651\n",
       "Charlotte  0.026062\n",
       "Montreal   0.020660"
      ]
     },
     "execution_count": 89,
     "metadata": {},
     "output_type": "execute_result"
    }
   ],
   "source": [
    "df_trusted = pd.DataFrame(df[df.user_stars==4].city.value_counts().sort_values(ascending=False)/df.city.value_counts().sort_values(ascending=False))\n",
    "df_trusted.std()\n",
    "df_trusted"
   ]
  },
  {
   "cell_type": "code",
   "execution_count": 90,
   "metadata": {
    "collapsed": false
   },
   "outputs": [
    {
     "data": {
      "text/plain": [
       "<matplotlib.axes._subplots.AxesSubplot at 0x184b46160>"
      ]
     },
     "execution_count": 90,
     "metadata": {},
     "output_type": "execute_result"
    },
    {
     "data": {
      "image/png": "[encoded data removed]",
      "text/plain": [
       "<matplotlib.figure.Figure at 0x186934a20>"
      ]
     },
     "metadata": {},
     "output_type": "display_data"
    }
   ],
   "source": [
    "df_trusted.city.plot(kind='bar', color='DarkGreen', rot=30,title='Top Yelper Percentage by City',legend=False)"
   ]
  },
  {
   "cell_type": "markdown",
   "metadata": {},
   "source": [
    "In looking at the neighborhoods, I wanted to clear up the lists in the neighborhoods column.\n",
    "I also wanted to clear up some names with unique letters, especially in the top 10 neighborhoods of Montreal."
   ]
  },
  {
   "cell_type": "code",
   "execution_count": 91,
   "metadata": {
    "collapsed": true
   },
   "outputs": [],
   "source": [
    "def clear_neighb(neighborhood):\n",
    "        return str(neighborhood).strip('[]' + \"'\")\n",
    "\n",
    "df.neighborhoods = df.neighborhoods.apply(clear_neighb)"
   ]
  },
  {
   "cell_type": "code",
   "execution_count": 92,
   "metadata": {
    "collapsed": true
   },
   "outputs": [],
   "source": [
    "def fix_mont_neighb(neighborhood):\n",
    "    if neighborhood == str('CÌ«te-des-Neiges'):\n",
    "        return str('Cote-des-Neiges')\n",
    "    elif neighborhood == str('Notre-Dame-de-GrÌ¢ce'):\n",
    "        return str('Notre-Dame-de-Grace')\n",
    "    else:\n",
    "        return neighborhood\n",
    "\n",
    "df.neighborhoods = df.neighborhoods.apply(fix_mont_neighb)"
   ]
  },
  {
   "cell_type": "markdown",
   "metadata": {},
   "source": [
    "## What are the neighborhoods with the highest-density of popular eateries in each city, by Top Users?\n",
    "For travelers, it's important to note which locations have a higher density of 5-star locales.\n",
    "\n",
    "In order to rate the top 5 eateries in each city, we wanted to take into account the following parameters.\n",
    "We wanted to guarantee that the reviews were being provided by the most trusted users (stars_x = 5.0), and that they were scoring these places high (stars_y = 5.0). We also wanted to take into account the number of people that had rated these restaurants, which is why the review_count_x is summed."
   ]
  },
  {
   "cell_type": "markdown",
   "metadata": {},
   "source": [
    "## Montreal: Eateries and Neighborhoods"
   ]
  },
  {
   "cell_type": "code",
   "execution_count": 93,
   "metadata": {
    "collapsed": false
   },
   "outputs": [
    {
     "name": "stderr",
     "output_type": "stream",
     "text": [
      "/Users/melaniecostello/anaconda/lib/python3.5/site-packages/ipykernel/__main__.py:1: UserWarning: Boolean Series key will be reindexed to match DataFrame index.\n",
      "  if __name__ == '__main__':\n"
     ]
    },
    {
     "data": {
      "text/plain": [
       "<matplotlib.axes._subplots.AxesSubplot at 0x161c0f860>"
      ]
     },
     "execution_count": 93,
     "metadata": {},
     "output_type": "execute_result"
    },
    {
     "data": {
      "image/png": "[encoded data removed]",
      "text/plain": [
       "<matplotlib.figure.Figure at 0x161c5c780>"
      ]
     },
     "metadata": {},
     "output_type": "display_data"
    }
   ],
   "source": [
    "ax = df[df.user_stars==4][df.city=='Montreal'][df.stars_y==5.0].neighborhoods.value_counts().sort_values(ascending=False)[:5].plot(kind='barh',title='Top Rated Neighborhoods in Montreal')\n",
    "ax.set_xlabel('Number of Mentions by Top Yelpers')\n",
    "ax"
   ]
  },
  {
   "cell_type": "code",
   "execution_count": 94,
   "metadata": {
    "collapsed": false
   },
   "outputs": [],
   "source": [
    "df = df.rename(columns={'name':'name_y', 'review_count':'review_count_x'})"
   ]
  },
  {
   "cell_type": "code",
   "execution_count": 95,
   "metadata": {
    "collapsed": false
   },
   "outputs": [
    {
     "name": "stderr",
     "output_type": "stream",
     "text": [
      "/Users/melaniecostello/anaconda/lib/python3.5/site-packages/ipykernel/__main__.py:1: UserWarning: Boolean Series key will be reindexed to match DataFrame index.\n",
      "  if __name__ == '__main__':\n"
     ]
    },
    {
     "data": {
      "text/plain": [
       "<matplotlib.axes._subplots.AxesSubplot at 0x1619fe4e0>"
      ]
     },
     "execution_count": 95,
     "metadata": {},
     "output_type": "execute_result"
    },
    {
     "data": {
      "image/png": "[encoded data removed]",
      "text/plain": [
       "<matplotlib.figure.Figure at 0x161063f98>"
      ]
     },
     "metadata": {},
     "output_type": "display_data"
    }
   ],
   "source": [
    "ax = df[df.user_stars==4][df.city=='Montreal'][df.stars_y==5.0].groupby(['name_y','neighborhoods']).review_count_x.sum().sort_values(ascending=False)[:5].plot(kind='barh',title='Top Rated Eateries in Montreal')\n",
    "ax.set_xlabel('Number of 5-Star Reviews by Top Yelpers')\n",
    "ax.set_ylabel('')\n",
    "ax"
   ]
  },
  {
   "cell_type": "markdown",
   "metadata": {},
   "source": [
    "## Las Vegas: Eateries and Neighborhoods"
   ]
  },
  {
   "cell_type": "code",
   "execution_count": 96,
   "metadata": {
    "collapsed": false
   },
   "outputs": [
    {
     "name": "stderr",
     "output_type": "stream",
     "text": [
      "/Users/melaniecostello/anaconda/lib/python3.5/site-packages/ipykernel/__main__.py:1: UserWarning: Boolean Series key will be reindexed to match DataFrame index.\n",
      "  if __name__ == '__main__':\n"
     ]
    },
    {
     "data": {
      "text/plain": [
       "<matplotlib.axes._subplots.AxesSubplot at 0x15a28f588>"
      ]
     },
     "execution_count": 96,
     "metadata": {},
     "output_type": "execute_result"
    },
    {
     "data": {
      "image/png": "[encoded data removed]",
      "text/plain": [
       "<matplotlib.figure.Figure at 0x161c8c588>"
      ]
     },
     "metadata": {},
     "output_type": "display_data"
    }
   ],
   "source": [
    "ax = df[df.user_stars==4][df.city=='Las Vegas'][df.neighborhoods!=''][df.stars_y==5.0].neighborhoods.value_counts().sort_values(ascending=False)[:5].plot(kind='barh',title='Top Rated Neighborhoods in Vegas')\n",
    "ax.set_xlabel('Number of Mentions by Top Yelpers')\n",
    "ax"
   ]
  },
  {
   "cell_type": "code",
   "execution_count": 97,
   "metadata": {
    "collapsed": false
   },
   "outputs": [
    {
     "name": "stderr",
     "output_type": "stream",
     "text": [
      "/Users/melaniecostello/anaconda/lib/python3.5/site-packages/ipykernel/__main__.py:1: UserWarning: Boolean Series key will be reindexed to match DataFrame index.\n",
      "  if __name__ == '__main__':\n"
     ]
    },
    {
     "data": {
      "text/plain": [
       "<matplotlib.axes._subplots.AxesSubplot at 0x15fc85208>"
      ]
     },
     "execution_count": 97,
     "metadata": {},
     "output_type": "execute_result"
    },
    {
     "data": {
      "image/png": "[encoded data removed]",
      "text/plain": [
       "<matplotlib.figure.Figure at 0x159c8cba8>"
      ]
     },
     "metadata": {},
     "output_type": "display_data"
    }
   ],
   "source": [
    "ax = df[df.user_stars==4][df.city=='Las Vegas'][df.stars_y==5.0][df.name_y!='Boyz II Men'].groupby(['name_y','neighborhoods']).review_count_x.sum().sort_values(ascending=False)[:5].plot(kind='barh',title='Top Rated Eateries in Las Vegas')\n",
    "ax.set_xlabel('Number of 5-Star Reviews by Top Yelpers')\n",
    "ax.set_ylabel('')\n",
    "ax"
   ]
  },
  {
   "cell_type": "markdown",
   "metadata": {},
   "source": [
    "## Charlotte: Eateries and Neighborhoods"
   ]
  },
  {
   "cell_type": "code",
   "execution_count": 98,
   "metadata": {
    "collapsed": false
   },
   "outputs": [
    {
     "name": "stderr",
     "output_type": "stream",
     "text": [
      "/Users/melaniecostello/anaconda/lib/python3.5/site-packages/ipykernel/__main__.py:1: UserWarning: Boolean Series key will be reindexed to match DataFrame index.\n",
      "  if __name__ == '__main__':\n"
     ]
    },
    {
     "data": {
      "text/plain": [
       "<matplotlib.axes._subplots.AxesSubplot at 0x15e7050b8>"
      ]
     },
     "execution_count": 98,
     "metadata": {},
     "output_type": "execute_result"
    },
    {
     "data": {
      "image/png": "[encoded data removed]",
      "text/plain": [
       "<matplotlib.figure.Figure at 0x15e3d4ef0>"
      ]
     },
     "metadata": {},
     "output_type": "display_data"
    }
   ],
   "source": [
    "ax = df[df.user_stars==4][df.city=='Charlotte'][df.neighborhoods!=''][df.stars_y==5.0].neighborhoods.value_counts().sort_values(ascending=False)[:5].plot(kind='barh',title='Top Rated Neighborhoods in Charlotte')\n",
    "ax.set_xlabel('Number of Mentions by Top Yelpers')\n",
    "ax"
   ]
  },
  {
   "cell_type": "code",
   "execution_count": 99,
   "metadata": {
    "collapsed": false
   },
   "outputs": [
    {
     "name": "stderr",
     "output_type": "stream",
     "text": [
      "/Users/melaniecostello/anaconda/lib/python3.5/site-packages/ipykernel/__main__.py:1: UserWarning: Boolean Series key will be reindexed to match DataFrame index.\n",
      "  if __name__ == '__main__':\n"
     ]
    },
    {
     "data": {
      "text/plain": [
       "<matplotlib.axes._subplots.AxesSubplot at 0x15de6eac8>"
      ]
     },
     "execution_count": 99,
     "metadata": {},
     "output_type": "execute_result"
    },
    {
     "data": {
      "image/png": "[encoded data removed]",
      "text/plain": [
       "<matplotlib.figure.Figure at 0x15d6634e0>"
      ]
     },
     "metadata": {},
     "output_type": "display_data"
    }
   ],
   "source": [
    "ax = df[df.user_stars==4][df.city=='Charlotte'][df.stars_y==5.0].groupby(['name_y','neighborhoods']).review_count_x.sum().sort_values(ascending=False)[:5].plot(kind='barh',title='Top Rated Eateries in Charlotte')\n",
    "ax.set_xlabel('Number of 5-Star Reviews by Top Yelpers')\n",
    "ax.set_ylabel('')\n",
    "ax"
   ]
  },
  {
   "cell_type": "markdown",
   "metadata": {},
   "source": [
    "## Phoenix: Eateries\n",
    "We will point out that Phoenix was not sectioned into neighborhoods. Tempe and Scottscale, which could be considered suburbs of Phoenix, were listed as separate cities, and were not included in our analysis."
   ]
  },
  {
   "cell_type": "code",
   "execution_count": 100,
   "metadata": {
    "collapsed": false
   },
   "outputs": [
    {
     "name": "stderr",
     "output_type": "stream",
     "text": [
      "/Users/melaniecostello/anaconda/lib/python3.5/site-packages/ipykernel/__main__.py:1: UserWarning: Boolean Series key will be reindexed to match DataFrame index.\n",
      "  if __name__ == '__main__':\n"
     ]
    },
    {
     "data": {
      "text/plain": [
       "<matplotlib.axes._subplots.AxesSubplot at 0x16034e400>"
      ]
     },
     "execution_count": 100,
     "metadata": {},
     "output_type": "execute_result"
    },
    {
     "data": {
      "image/png": "[encoded data removed]",
      "text/plain": [
       "<matplotlib.figure.Figure at 0x15c6a7080>"
      ]
     },
     "metadata": {},
     "output_type": "display_data"
    }
   ],
   "source": [
    "ax = df[df.user_stars==4][df.city=='Phoenix'][df.stars_y==5.0].groupby(['name_y']).review_count_x.sum().sort_values(ascending=False)[:5].plot(kind='barh',title='Top Rated Eateries in Phoenix')\n",
    "ax.set_xlabel('Number of 5-Star Reviews by Top Yelpers')\n",
    "ax.set_ylabel('')\n",
    "ax"
   ]
  },
  {
   "cell_type": "markdown",
   "metadata": {},
   "source": [
    "## User Info: Who are the most active users, newer or older Yelpers?\n",
    "\n",
    "In looking at the overall activity of Yelp users, we found that the most active users were neither the oldest nor the youngest yelp users, but rather those that had joined between 5 - 6 years ago.\n",
    "This is helpful, because we can be assured that the majority of reviews are coming from experienced people.\n",
    "I created a separate column to look at the year individuals started Yelping."
   ]
  },
  {
   "cell_type": "code",
   "execution_count": 101,
   "metadata": {
    "collapsed": true
   },
   "outputs": [],
   "source": [
    "def yelp_year(when):\n",
    "    return str(when)[:4]\n",
    "\n",
    "df['yelping_since_year'] = df['yelping_since'].apply(yelp_year)"
   ]
  },
  {
   "cell_type": "code",
   "execution_count": 102,
   "metadata": {
    "collapsed": false
   },
   "outputs": [
    {
     "data": {
      "text/plain": [
       "<matplotlib.text.Text at 0x13a842d30>"
      ]
     },
     "execution_count": 102,
     "metadata": {},
     "output_type": "execute_result"
    },
    {
     "data": {
      "image/png": "[encoded data removed]",
      "text/plain": [
       "<matplotlib.figure.Figure at 0x13a872470>"
      ]
     },
     "metadata": {},
     "output_type": "display_data"
    }
   ],
   "source": [
    "ax = ((df.groupby('yelping_since_year').review_count_x.sum())/int(1000000)).plot(kind='bar',rot=30,title='Number of Reviews in Millions')\n",
    "ax.set_xlabel('Year of Initial Membership')"
   ]
  },
  {
   "cell_type": "code",
   "execution_count": null,
   "metadata": {
    "collapsed": true
   },
   "outputs": [],
   "source": []
  }
 ],
 "metadata": {
  "kernelspec": {
   "display_name": "Python 3",
   "language": "python",
   "name": "python3"
  },
  "language_info": {
   "codemirror_mode": {
    "name": "ipython",
    "version": 3
   },
   "file_extension": ".py",
   "mimetype": "text/x-python",
   "name": "python",
   "nbconvert_exporter": "python",
   "pygments_lexer": "ipython3",
   "version": "3.5.1"
  }
 },
 "nbformat": 4,
 "nbformat_minor": 0
}
