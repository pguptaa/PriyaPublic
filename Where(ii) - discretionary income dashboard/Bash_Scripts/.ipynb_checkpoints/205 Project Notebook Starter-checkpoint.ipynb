{
 "cells": [
  {
   "cell_type": "code",
   "execution_count": 3,
   "metadata": {
    "collapsed": false
   },
   "outputs": [],
   "source": [
    "import pandas as pd\n",
    "import matplotlib as plt\n",
    "%matplotlib inline"
   ]
  },
  {
   "cell_type": "code",
   "execution_count": 4,
   "metadata": {
    "collapsed": false
   },
   "outputs": [
    {
     "name": "stdout",
     "output_type": "stream",
     "text": [
      "\u001b[31mBOS_M2015_dl.xlsx\u001b[m\u001b[m*       Untitled.ipynb           \u001b[31mfield_descriptions.xlsx\u001b[m\u001b[m*\r\n",
      "\u001b[31mMSA_M2015_dl.xlsx\u001b[m\u001b[m*       \u001b[31maMSA_M2015_dl.xlsx\u001b[m\u001b[m*      \u001b[31mfile_descriptions.xlsx\u001b[m\u001b[m*\r\n"
     ]
    }
   ],
   "source": [
    "%pwd\n",
    "%ls"
   ]
  },
  {
   "cell_type": "code",
   "execution_count": 5,
   "metadata": {
    "collapsed": true
   },
   "outputs": [],
   "source": [
    "file = pd.read_excel('aMSA_M2015_dl.xlsx')"
   ]
  },
  {
   "cell_type": "code",
   "execution_count": 6,
   "metadata": {
    "collapsed": false
   },
   "outputs": [
    {
     "data": {
      "text/html": [
       "<div>\n",
       "<table border=\"1\" class=\"dataframe\">\n",
       "  <thead>\n",
       "    <tr style=\"text-align: right;\">\n",
       "      <th></th>\n",
       "      <th>PRIM_STATE</th>\n",
       "      <th>AREA</th>\n",
       "      <th>AREA_NAME</th>\n",
       "      <th>OCC_CODE</th>\n",
       "      <th>OCC_TITLE</th>\n",
       "      <th>OCC_GROUP</th>\n",
       "      <th>TOT_EMP</th>\n",
       "      <th>EMP_PRSE</th>\n",
       "      <th>JOBS_1000</th>\n",
       "      <th>LOC QUOTIENT</th>\n",
       "      <th>...</th>\n",
       "      <th>H_MEDIAN</th>\n",
       "      <th>H_PCT75</th>\n",
       "      <th>H_PCT90</th>\n",
       "      <th>A_PCT10</th>\n",
       "      <th>A_PCT25</th>\n",
       "      <th>A_MEDIAN</th>\n",
       "      <th>A_PCT75</th>\n",
       "      <th>A_PCT90</th>\n",
       "      <th>ANNUAL</th>\n",
       "      <th>HOURLY</th>\n",
       "    </tr>\n",
       "  </thead>\n",
       "  <tbody>\n",
       "    <tr>\n",
       "      <th>0</th>\n",
       "      <td>CA</td>\n",
       "      <td>31080</td>\n",
       "      <td>Los Angeles-Long Beach-Anaheim, CA</td>\n",
       "      <td>00-0000</td>\n",
       "      <td>All Occupations</td>\n",
       "      <td>total</td>\n",
       "      <td>5627380</td>\n",
       "      <td>0.3</td>\n",
       "      <td>1000</td>\n",
       "      <td>1</td>\n",
       "      <td>...</td>\n",
       "      <td>18.6</td>\n",
       "      <td>32.36</td>\n",
       "      <td>50.88</td>\n",
       "      <td>19610</td>\n",
       "      <td>24340</td>\n",
       "      <td>38700</td>\n",
       "      <td>67310</td>\n",
       "      <td>105830</td>\n",
       "      <td>NaN</td>\n",
       "      <td>NaN</td>\n",
       "    </tr>\n",
       "    <tr>\n",
       "      <th>1</th>\n",
       "      <td>CA</td>\n",
       "      <td>31080</td>\n",
       "      <td>Los Angeles-Long Beach-Anaheim, CA</td>\n",
       "      <td>11-0000</td>\n",
       "      <td>Management Occupations</td>\n",
       "      <td>major</td>\n",
       "      <td>326680</td>\n",
       "      <td>0.9</td>\n",
       "      <td>58.051</td>\n",
       "      <td>1.15</td>\n",
       "      <td>...</td>\n",
       "      <td>52.22</td>\n",
       "      <td>76.25</td>\n",
       "      <td>#</td>\n",
       "      <td>48140</td>\n",
       "      <td>71080</td>\n",
       "      <td>108620</td>\n",
       "      <td>158600</td>\n",
       "      <td>#</td>\n",
       "      <td>NaN</td>\n",
       "      <td>NaN</td>\n",
       "    </tr>\n",
       "    <tr>\n",
       "      <th>2</th>\n",
       "      <td>CA</td>\n",
       "      <td>31080</td>\n",
       "      <td>Los Angeles-Long Beach-Anaheim, CA</td>\n",
       "      <td>11-1011</td>\n",
       "      <td>Chief Executives</td>\n",
       "      <td>detailed</td>\n",
       "      <td>11610</td>\n",
       "      <td>4</td>\n",
       "      <td>2.064</td>\n",
       "      <td>1.19</td>\n",
       "      <td>...</td>\n",
       "      <td>#</td>\n",
       "      <td>#</td>\n",
       "      <td>#</td>\n",
       "      <td>92060</td>\n",
       "      <td>146230</td>\n",
       "      <td>#</td>\n",
       "      <td>#</td>\n",
       "      <td>#</td>\n",
       "      <td>NaN</td>\n",
       "      <td>NaN</td>\n",
       "    </tr>\n",
       "    <tr>\n",
       "      <th>3</th>\n",
       "      <td>CA</td>\n",
       "      <td>31080</td>\n",
       "      <td>Los Angeles-Long Beach-Anaheim, CA</td>\n",
       "      <td>11-1021</td>\n",
       "      <td>General and Operations Managers</td>\n",
       "      <td>detailed</td>\n",
       "      <td>102660</td>\n",
       "      <td>1.5</td>\n",
       "      <td>18.242</td>\n",
       "      <td>1.17</td>\n",
       "      <td>...</td>\n",
       "      <td>52.13</td>\n",
       "      <td>83.12</td>\n",
       "      <td>#</td>\n",
       "      <td>47760</td>\n",
       "      <td>70030</td>\n",
       "      <td>108440</td>\n",
       "      <td>172900</td>\n",
       "      <td>#</td>\n",
       "      <td>NaN</td>\n",
       "      <td>NaN</td>\n",
       "    </tr>\n",
       "    <tr>\n",
       "      <th>4</th>\n",
       "      <td>CA</td>\n",
       "      <td>31080</td>\n",
       "      <td>Los Angeles-Long Beach-Anaheim, CA</td>\n",
       "      <td>11-1031</td>\n",
       "      <td>Legislators</td>\n",
       "      <td>detailed</td>\n",
       "      <td>750</td>\n",
       "      <td>7.8</td>\n",
       "      <td>0.133</td>\n",
       "      <td>0.33</td>\n",
       "      <td>...</td>\n",
       "      <td>*</td>\n",
       "      <td>*</td>\n",
       "      <td>*</td>\n",
       "      <td>37290</td>\n",
       "      <td>48260</td>\n",
       "      <td>60630</td>\n",
       "      <td>82120</td>\n",
       "      <td>104560</td>\n",
       "      <td>True</td>\n",
       "      <td>NaN</td>\n",
       "    </tr>\n",
       "  </tbody>\n",
       "</table>\n",
       "<p>5 rows × 25 columns</p>\n",
       "</div>"
      ],
      "text/plain": [
       "  PRIM_STATE   AREA                           AREA_NAME OCC_CODE  \\\n",
       "0         CA  31080  Los Angeles-Long Beach-Anaheim, CA  00-0000   \n",
       "1         CA  31080  Los Angeles-Long Beach-Anaheim, CA  11-0000   \n",
       "2         CA  31080  Los Angeles-Long Beach-Anaheim, CA  11-1011   \n",
       "3         CA  31080  Los Angeles-Long Beach-Anaheim, CA  11-1021   \n",
       "4         CA  31080  Los Angeles-Long Beach-Anaheim, CA  11-1031   \n",
       "\n",
       "                         OCC_TITLE OCC_GROUP  TOT_EMP EMP_PRSE JOBS_1000  \\\n",
       "0                  All Occupations     total  5627380      0.3      1000   \n",
       "1           Management Occupations     major   326680      0.9    58.051   \n",
       "2                 Chief Executives  detailed    11610        4     2.064   \n",
       "3  General and Operations Managers  detailed   102660      1.5    18.242   \n",
       "4                      Legislators  detailed      750      7.8     0.133   \n",
       "\n",
       "  LOC QUOTIENT  ...   H_MEDIAN H_PCT75 H_PCT90 A_PCT10 A_PCT25 A_MEDIAN  \\\n",
       "0            1  ...       18.6   32.36   50.88   19610   24340    38700   \n",
       "1         1.15  ...      52.22   76.25       #   48140   71080   108620   \n",
       "2         1.19  ...          #       #       #   92060  146230        #   \n",
       "3         1.17  ...      52.13   83.12       #   47760   70030   108440   \n",
       "4         0.33  ...          *       *       *   37290   48260    60630   \n",
       "\n",
       "  A_PCT75 A_PCT90 ANNUAL HOURLY  \n",
       "0   67310  105830    NaN    NaN  \n",
       "1  158600       #    NaN    NaN  \n",
       "2       #       #    NaN    NaN  \n",
       "3  172900       #    NaN    NaN  \n",
       "4   82120  104560   True    NaN  \n",
       "\n",
       "[5 rows x 25 columns]"
      ]
     },
     "execution_count": 6,
     "metadata": {},
     "output_type": "execute_result"
    }
   ],
   "source": [
    "file.head()"
   ]
  },
  {
   "cell_type": "code",
   "execution_count": 7,
   "metadata": {
    "collapsed": false
   },
   "outputs": [
    {
     "data": {
      "text/plain": [
       "Index(['PRIM_STATE', 'AREA', 'AREA_NAME', 'OCC_CODE', 'OCC_TITLE', 'OCC_GROUP',\n",
       "       'TOT_EMP', 'EMP_PRSE', 'JOBS_1000', 'LOC QUOTIENT', 'H_MEAN', 'A_MEAN',\n",
       "       'MEAN_PRSE', 'H_PCT10', 'H_PCT25', 'H_MEDIAN', 'H_PCT75', 'H_PCT90',\n",
       "       'A_PCT10', 'A_PCT25', 'A_MEDIAN', 'A_PCT75', 'A_PCT90', 'ANNUAL',\n",
       "       'HOURLY'],\n",
       "      dtype='object')"
      ]
     },
     "execution_count": 7,
     "metadata": {},
     "output_type": "execute_result"
    }
   ],
   "source": [
    "file.columns"
   ]
  },
  {
   "cell_type": "code",
   "execution_count": 20,
   "metadata": {
    "collapsed": true
   },
   "outputs": [],
   "source": [
    "file.H_MEAN = pd.to_numeric(file.H_MEAN, errors='coerce')\n",
    "file.A_MEAN = pd.to_numeric(file.A_MEAN, errors='coerce')"
   ]
  },
  {
   "cell_type": "code",
   "execution_count": 12,
   "metadata": {
    "collapsed": false
   },
   "outputs": [
    {
     "data": {
      "text/plain": [
       "Operations Research Analysts                                      11\n",
       "Demonstrators and Product Promoters                               11\n",
       "Operating Engineers and Other Construction Equipment Operators    11\n",
       "Sales Representatives, Services, All Other                        11\n",
       "Pesticide Handlers, Sprayers, and Applicators, Vegetation         11\n",
       "Name: OCC_TITLE, dtype: int64"
      ]
     },
     "execution_count": 12,
     "metadata": {},
     "output_type": "execute_result"
    }
   ],
   "source": [
    "file.OCC_TITLE.value_counts().head(5)"
   ]
  },
  {
   "cell_type": "code",
   "execution_count": 32,
   "metadata": {
    "collapsed": false
   },
   "outputs": [
    {
     "data": {
      "text/plain": [
       "AREA_NAME                                    OCC_TITLE                      \n",
       "Dallas-Fort Worth-Arlington, TX              Orthodontists                      283790\n",
       "Detroit-Warren-Dearborn, MI                  Anesthesiologists                  279900\n",
       "Miami-Fort Lauderdale-West Palm Beach, FL    Dentists, All Other Specialists    276200\n",
       "Dallas-Fort Worth-Arlington, TX              Dentists, All Other Specialists    275810\n",
       "Los Angeles-Long Beach-Anaheim, CA           Psychiatrists                      272160\n",
       "Philadelphia-Camden-Wilmington, PA-NJ-DE-MD  Anesthesiologists                  268920\n",
       "Boston-Cambridge-Nashua, MA-NH               Oral and Maxillofacial Surgeons    268200\n",
       "New York-Newark-Jersey City, NY-NJ-PA        Anesthesiologists                  261630\n",
       "Dallas-Fort Worth-Arlington, TX              Surgeons                           255120\n",
       "Miami-Fort Lauderdale-West Palm Beach, FL    Anesthesiologists                  254890\n",
       "Chicago-Naperville-Elgin, IL-IN-WI           Surgeons                           254220\n",
       "Boston-Cambridge-Nashua, MA-NH               Anesthesiologists                  251010\n",
       "Dallas-Fort Worth-Arlington, TX              Psychiatrists                      248500\n",
       "New York-Newark-Jersey City, NY-NJ-PA        Surgeons                           246910\n",
       "Boston-Cambridge-Nashua, MA-NH               Obstetricians and Gynecologists    244830\n",
       "Name: A_MEAN, dtype: float64"
      ]
     },
     "execution_count": 32,
     "metadata": {},
     "output_type": "execute_result"
    }
   ],
   "source": [
    "#Highest paid peeps!\n",
    "file.groupby(('AREA_NAME','OCC_TITLE')).A_MEAN.mean().sort_values(ascending=False).head(15)"
   ]
  },
  {
   "cell_type": "code",
   "execution_count": null,
   "metadata": {
    "collapsed": true
   },
   "outputs": [],
   "source": []
  }
 ],
 "metadata": {
  "kernelspec": {
   "display_name": "Python 3",
   "language": "python",
   "name": "python3"
  },
  "language_info": {
   "codemirror_mode": {
    "name": "ipython",
    "version": 3
   },
   "file_extension": ".py",
   "mimetype": "text/x-python",
   "name": "python",
   "nbconvert_exporter": "python",
   "pygments_lexer": "ipython3",
   "version": "3.5.1"
  }
 },
 "nbformat": 4,
 "nbformat_minor": 0
}
