{
 "cells": [
  {
   "cell_type": "code",
   "execution_count": 2,
   "metadata": {
    "collapsed": false
   },
   "outputs": [],
   "source": [
    "import pandas as pd\n",
    "df = pd.read_excel(\"complete-data.xlsx\")\n",
    "df = df.fillna(value='blank')\n",
    "df2 = df.ix[4:]\n",
    "df2.to_csv(\"traffic.csv\",header=None)\n",
    "df3 = pd.read_csv(\"Affordability_Income_2016Q2.csv\")\n",
    "df4 = df3[['RegionID', 'RegionName', 'SizeRank','2015-03', '2015-06', '2015-09', '2015-12', '2016-03', '2016-06']]\n",
    "df4.to_csv(\"aff_inc.csv\", header=None)"
   ]
  }
 ],
 "metadata": {
  "kernelspec": {
   "display_name": "Python 3",
   "language": "python",
   "name": "python3"
  },
  "language_info": {
   "codemirror_mode": {
    "name": "ipython",
    "version": 3
   },
   "file_extension": ".py",
   "mimetype": "text/x-python",
   "name": "python",
   "nbconvert_exporter": "python",
   "pygments_lexer": "ipython3",
   "version": "3.5.1"
  }
 },
 "nbformat": 4,
 "nbformat_minor": 0
}
